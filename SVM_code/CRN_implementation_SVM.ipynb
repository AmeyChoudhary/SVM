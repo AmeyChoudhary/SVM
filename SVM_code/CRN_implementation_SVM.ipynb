{
 "cells": [
  {
   "cell_type": "markdown",
   "metadata": {},
   "source": [
    "# Implementation of Hard-Margin Linear SVMs using CRNs\n",
    "\n",
    "In the paper, we have shown how Hard-Margin Linear SVMs can be implemented using CRNs. Here, we show how to simulate the resulting CRN."
   ]
  },
  {
   "cell_type": "markdown",
   "metadata": {},
   "source": [
    "### Importing Libraries"
   ]
  },
  {
   "cell_type": "code",
   "execution_count": 1,
   "metadata": {},
   "outputs": [],
   "source": [
    "# importing libraries\n",
    "import numpy as np\n",
    "import matplotlib.pyplot as plt\n",
    "from scipy.integrate import odeint"
   ]
  },
  {
   "cell_type": "markdown",
   "metadata": {},
   "source": [
    "### Defining Helper Functions\n",
    "The following functions will act as the underlying base for the different modules for the CRNs."
   ]
  },
  {
   "cell_type": "markdown",
   "metadata": {},
   "source": [
    "##### Oscillating Function\n",
    "This function takes an input of the oscillating species, oscillates them and returns the new concentrations"
   ]
  },
  {
   "cell_type": "code",
   "execution_count": 2,
   "metadata": {},
   "outputs": [],
   "source": [
    "# oscillator wrapper function takes in an array of oscillating species names, array of doped species, current timestep\n",
    "\n",
    "def oscillator_function(y,t,num_oscillating_species):\n",
    "    # making the array of the oscillating species\n",
    "    oscillating_species = y[0:num_oscillating_species]\n",
    "    doped_species = y[num_oscillating_species:]\n",
    "\n",
    "    num_doped_species = len(doped_species)\n",
    "\n",
    "    # initialisinng the derivatives\n",
    "    d_oscillating_species = np.zeros(num_oscillating_species)\n",
    "    d_doped_species = np.zeros(num_doped_species)\n",
    "\n",
    "    # defining the derivatives \n",
    "\n",
    "    # for the oscillating species\n",
    "    d_oscillating_species[0] = -oscillating_species[0]*oscillating_species[1] + oscillating_species[num_oscillating_species-1]*oscillating_species[0] + doped_species[0]*oscillating_species[num_oscillating_species-1] - doped_species[1]*oscillating_species[0]\n",
    "\n",
    "    for idx in range(1,num_oscillating_species-1):\n",
    "        d_oscillating_species[idx] = oscillating_species[idx-1]*oscillating_species[idx] - oscillating_species[idx+1]*oscillating_species[idx] + doped_species[idx]*oscillating_species[idx-1] - doped_species[idx+1]*oscillating_species[idx]\n",
    "    \n",
    "    d_oscillating_species[num_oscillating_species-1] = oscillating_species[num_oscillating_species-2]*oscillating_species[num_oscillating_species-1] - oscillating_species[0]*oscillating_species[num_oscillating_species-1] + doped_species[num_doped_species-1]*oscillating_species[num_oscillating_species-2] - doped_species[0]*oscillating_species[num_oscillating_species-1]\n",
    "\n",
    "    # for the doped species\n",
    "    d_doped_species[0] = -doped_species[0]*oscillating_species[num_doped_species-1]\n",
    "\n",
    "    for idx in range(1,num_doped_species):\n",
    "        d_doped_species[idx] = -doped_species[idx]*oscillating_species[idx-1]\n",
    "    \n",
    "    dydt = []\n",
    "    dydt.extend(d_oscillating_species)\n",
    "    dydt.extend(d_doped_species)\n",
    "    \n",
    "    return dydt\n",
    "\n",
    "def oscillator_wrapper(oscillating_species, doped_species, current_timestep, species_concentrations, species_concentrations_current_timestep):\n",
    "    \n",
    "    # making an array of the species concentrations at timestep: current_timestep - 1\n",
    "    oscillating_species_concentrations = np.array([species_concentrations[species][current_timestep - 1] for species in oscillating_species])\n",
    "    doped_species_concentrations = np.array([species_concentrations[species][current_timestep - 1] for species in doped_species])\n",
    "\n",
    "    # number of oscillating species \n",
    "    num_oscillating_species = len(oscillating_species_concentrations)\n",
    "\n",
    "    # making the input array for the oscillator function\n",
    "    y_0 = []\n",
    "    y_0.extend(oscillating_species_concentrations)\n",
    "    y_0.extend(doped_species_concentrations)\n",
    "\n",
    "    # calculating the time range\n",
    "    t = np.linspace(current_timestep - 1, current_timestep, 2) # 2 steps\n",
    "\n",
    "    # solving the ODE\n",
    "    sol = odeint(oscillator_function, y_0, t, args=(num_oscillating_species,))\n",
    "\n",
    "    # review if you wanna add threshold\n",
    "    # updating the species concentrations in current timestep\n",
    "    for idx, species in enumerate(oscillating_species):\n",
    "        species_concentrations_current_timestep[species] = sol[1][idx]\n",
    "\n",
    "    for idx, species in enumerate(doped_species):\n",
    "        species_concentrations_current_timestep[species] = sol[1][num_oscillating_species + idx]\n",
    "\n",
    "    return species_concentrations_current_timestep"
   ]
  },
  {
   "cell_type": "markdown",
   "metadata": {},
   "source": [
    "##### Loading Function\n",
    "Takes the concentration of the source species and loads them into the target species"
   ]
  },
  {
   "cell_type": "code",
   "execution_count": 3,
   "metadata": {},
   "outputs": [],
   "source": [
    "# laoding function\n",
    "def load_function(y,t,a, o):\n",
    "    c = y[0]\n",
    "    dc_dt = -c*o + a*o\n",
    "    return [ dc_dt]\n",
    "\n",
    "def load_wrapper(from_species, to_species, regulating_species, current_timestep, species_concentrations, species_concentrations_current_timestep):\n",
    "\n",
    "    # getting the species concentrations at current timestep - 1\n",
    "    from_species_concentration = species_concentrations[from_species][current_timestep - 1]\n",
    "    to_species_concentration = species_concentrations[to_species][current_timestep - 1]\n",
    "    regulating_species_concentration = species_concentrations[regulating_species][current_timestep - 1]\n",
    "\n",
    "    y0 = [to_species_concentration]\n",
    "    t = np.linspace(current_timestep - 1, current_timestep, 2) # 2 steps\n",
    "    \n",
    "    sol = odeint(load_function, y0, t, args=(from_species_concentration, regulating_species_concentration))\n",
    "\n",
    "    threshold_loading = 1e-4\n",
    "\n",
    "    if np.abs(sol[1][0] - to_species_concentration) > threshold_loading: # to ensure update only happens when substantial #review\n",
    "        species_concentrations_current_timestep[to_species] = sol[1][0] # only value of to_species is updated\n",
    "\n",
    "    return species_concentrations_current_timestep\n",
    "\n"
   ]
  },
  {
   "cell_type": "markdown",
   "metadata": {},
   "source": [
    "##### Multiplication Function\n",
    "Takes and does the product of the concentrations of the species."
   ]
  },
  {
   "cell_type": "code",
   "execution_count": 4,
   "metadata": {},
   "outputs": [],
   "source": [
    "# multiplication function\n",
    "def product_f(y,t,multiplicand_species_concentrations,o):\n",
    "    c = y[0]\n",
    "\n",
    "    dc_dt = 0\n",
    "\n",
    "    temp = 1\n",
    "    for idx, multiplicand in enumerate(multiplicand_species_concentrations):\n",
    "        temp  = temp * multiplicand\n",
    "    \n",
    "    dc_dt = -c*o + temp*o\n",
    "    return [ dc_dt]\n",
    "\n",
    "def product_wrapper(multiplicand_species, product,regulating_species, current_timestep, species_concentrations, species_concentrations_current_timestep):\n",
    "\n",
    "    multiplicand_species_concentrations = np.array([species_concentrations[species][current_timestep - 1] for species in multiplicand_species])\n",
    "\n",
    "    c = species_concentrations[product][current_timestep - 1]\n",
    "    o = species_concentrations[regulating_species][current_timestep - 1]\n",
    "\n",
    "    y0 = [c]\n",
    "    t = np.linspace(current_timestep-1, current_timestep,2)\n",
    "    \n",
    "    sol = odeint(product_f, y0, t, args=(multiplicand_species_concentrations, o))\n",
    "\n",
    "    threshold_product = 1e-4\n",
    "\n",
    "    if np.abs(c-sol[1][0])> threshold_product:\n",
    "        species_concentrations_current_timestep[product] = sol[1][0]\n",
    "\n",
    "    return species_concentrations_current_timestep"
   ]
  },
  {
   "cell_type": "markdown",
   "metadata": {},
   "source": [
    "##### Sum Function\n",
    "\n",
    "Takes the concentration of the species and does the sum and loads them."
   ]
  },
  {
   "cell_type": "code",
   "execution_count": 1,
   "metadata": {},
   "outputs": [],
   "source": [
    "# sum function\n",
    "def sum_f(y,t,additive_species_concentrations,o):\n",
    "    c = y[0]\n",
    "    temp =0\n",
    "    for idx, additive in enumerate(additive_species_concentrations):\n",
    "        temp = temp + additive\n",
    "    dc_dt = -c*o + temp*o\n",
    "    return [ dc_dt]\n",
    "\n",
    "def sum_wrapper(additive_species, sum, regulating_species, current_timestep, species_concentrations, species_concentrations_current_timestep):\n",
    "\n",
    "    # getting the species concentrations at current timestep -1\n",
    "    additive_species_concentrations =  np.array([species_concentrations[species][current_timestep - 1] for species in additive_species])\n",
    "\n",
    "    c = species_concentrations[sum][current_timestep-1]\n",
    "    o = species_concentrations[regulating_species][current_timestep-1]\n",
    "\n",
    "    y0 = [c]\n",
    "    t = np.linspace(current_timestep-1, current_timestep,2)\n",
    "    \n",
    "    sol = odeint(sum_f, y0, t, args=(additive_species_concentrations,o))\n",
    "\n",
    "    threshold_sum = 1e-4\n",
    "\n",
    "    if np.abs(c-sol[1][0]) > threshold_sum:\n",
    "        species_concentrations_current_timestep[sum] = sol[1][0]\n",
    "\n",
    "    return species_concentrations_current_timestep"
   ]
  },
  {
   "cell_type": "markdown",
   "metadata": {},
   "source": [
    "##### Comparison Function\n",
    "\n",
    "This function takes in 2 inputs (a,b), then computes r = b/(a+b) and puts them into bgta and 1-r into blta."
   ]
  },
  {
   "cell_type": "code",
   "execution_count": 2,
   "metadata": {},
   "outputs": [],
   "source": [
    "# mapping function for comparison\n",
    "def comparison_f(y, t, a, b, o):\n",
    "    dydt = []\n",
    "    bgta = y[0]\n",
    "    blta = y[1]\n",
    "\n",
    "    temp = b*blta*o - bgta*a*o\n",
    "    dydt.append(temp)\n",
    "\n",
    "    temp = bgta*a*o - b*blta*o\n",
    "    dydt.append(temp)\n",
    "\n",
    "    return dydt\n",
    "\n",
    "def comparison_wrapper(species_a,species_b, b_gt_a, b_lt_a, regulating_species , current_timestep, species_concentrations, species_concentrations_current_timestep):\n",
    "\n",
    "    a = species_concentrations[species_a][current_timestep-1]\n",
    "    b = species_concentrations[species_b][current_timestep-1]\n",
    "    bgta = species_concentrations[b_gt_a][current_timestep-1]\n",
    "    blta = species_concentrations[b_lt_a][current_timestep-1]\n",
    "    o = species_concentrations[regulating_species][current_timestep-1]\n",
    "\n",
    "    y0 = [bgta, blta]\n",
    "    t = np.linspace(current_timestep -1, current_timestep, 2)\n",
    "    \n",
    "    sol = odeint(comparison_f, y0, t, args=(a,b, o))\n",
    "\n",
    "    threshold_comparison = 1e-4\n",
    "\n",
    "    if np.abs(bgta-sol[:,0][-1]) > threshold_comparison:\n",
    "        species_concentrations_current_timestep[b_gt_a] = sol[:, 0][-1]\n",
    "    if np.abs(blta-sol[:,1][-1]) > threshold_comparison:\n",
    "        species_concentrations_current_timestep[b_lt_a] = sol[:, 1][-1]\n",
    "\n",
    "    return species_concentrations_current_timestep\n"
   ]
  },
  {
   "cell_type": "markdown",
   "metadata": {},
   "source": [
    "##### Approximate Majority Function\n",
    "\n",
    "Takes in 2 inputs, maps the greater one to sum of the species (here it is 1) and smaller one to 0."
   ]
  },
  {
   "cell_type": "code",
   "execution_count": 3,
   "metadata": {},
   "outputs": [],
   "source": [
    "# approximate majority for comparison\n",
    "def approx_majority_f(y, t, o):\n",
    "    kgtq = y[0]\n",
    "    kltq = y[1]\n",
    "    b_help = y[2]\n",
    "\n",
    "    dydt = []\n",
    "    \n",
    "    temp =  - kgtq*kltq*o + kgtq *b_help*o\n",
    "    dydt.append(temp)\n",
    "\n",
    "    temp = kltq*b_help*o - kgtq*kltq*o\n",
    "    dydt.append(temp)\n",
    "\n",
    "    temp = 2* kgtq*kltq*o - kgtq*b_help*o - kltq*b_help*o\n",
    "    dydt.append(temp)\n",
    "\n",
    "    return dydt\n",
    "\n",
    "def approx_majority_wrapper(b_gt_a, b_lt_a, helper_species, regulating_species, current_timestep, species_concentrations, species_concentrations_current_timestep):\n",
    "\n",
    "    bgta = species_concentrations[b_gt_a][current_timestep-1]\n",
    "    blta = species_concentrations[b_lt_a][current_timestep-1]\n",
    "    helper_s = species_concentrations[helper_species][current_timestep-1]\n",
    "    o = species_concentrations[regulating_species][current_timestep-1]\n",
    "\n",
    "    y_0 = [bgta, blta, helper_s]\n",
    "\n",
    "    t = np.linspace(current_timestep, current_timestep+1, 2)\n",
    "\n",
    "    sol = odeint(approx_majority_f, y_0, t, args=(o,))\n",
    "\n",
    "    threshold_am = 1e-4\n",
    "\n",
    "    if np.abs(bgta-sol[:,0][-1]) > threshold_am:\n",
    "        species_concentrations_current_timestep[b_gt_a] = sol[:, 0][-1]\n",
    "    if np.abs(blta-sol[:,1][-1]) > threshold_am:\n",
    "        species_concentrations_current_timestep[b_lt_a] = sol[:, 1][-1]\n",
    "    if np.abs(helper_s - sol[:,2][-1]) > threshold_am:\n",
    "        species_concentrations_current_timestep[helper_species] = sol[:,2][-1]\n",
    "\n",
    "    return species_concentrations_current_timestep\n"
   ]
  }
 ],
 "metadata": {
  "kernelspec": {
   "display_name": "Python 3",
   "language": "python",
   "name": "python3"
  },
  "language_info": {
   "codemirror_mode": {
    "name": "ipython",
    "version": 3
   },
   "file_extension": ".py",
   "mimetype": "text/x-python",
   "name": "python",
   "nbconvert_exporter": "python",
   "pygments_lexer": "ipython3",
   "version": "3.10.12"
  }
 },
 "nbformat": 4,
 "nbformat_minor": 2
}
