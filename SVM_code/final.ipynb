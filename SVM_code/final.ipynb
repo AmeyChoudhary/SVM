{
 "cells": [
  {
   "cell_type": "markdown",
   "metadata": {},
   "source": [
    "# Implementation of Linear Hard Margin SVMs through CRNs\n",
    "\n",
    "We shall be implementing linear hard margin SVMs using CRNs"
   ]
  },
  {
   "cell_type": "code",
   "execution_count": 19,
   "metadata": {
    "metadata": {}
   },
   "outputs": [],
   "source": [
    "# Format of notebook:\n",
    "# Give a diagram and explaination of the network\n",
    "# importing libraries\n",
    "# defining the helper function\n",
    "# training\n",
    "# plotting\n",
    "# testing\n",
    "# plotting \n"
   ]
  },
  {
   "cell_type": "code",
   "execution_count": 20,
   "metadata": {
    "metadata": {}
   },
   "outputs": [],
   "source": [
    "# Give Diagram and explaination of the network, also explain some of the functions used in the network"
   ]
  },
  {
   "cell_type": "code",
   "execution_count": 21,
   "metadata": {
    "metadata": {}
   },
   "outputs": [],
   "source": [
    "# importing libraries\n",
    "import numpy as np\n",
    "import matplotlib.pyplot as plt\n",
    "from scipy.integrate import odeint"
   ]
  },
  {
   "cell_type": "code",
   "execution_count": 22,
   "metadata": {
    "metadata": {}
   },
   "outputs": [],
   "source": [
    "# oscillator wrapper function takes in an array of oscillating species names, array of doped species, current timestep\n",
    "# a dictionary containing all the species concentrations, and an output dictionary for current timestep\n",
    "\n",
    "def oscillator_function(y,t,num_oscillating_species):\n",
    "    # making the array of the oscillating species\n",
    "    oscillating_species = y[0:num_oscillating_species]\n",
    "    doped_species = y[num_oscillating_species:]\n",
    "\n",
    "    num_doped_species = len(doped_species)\n",
    "\n",
    "    # initialisinng the derivatives\n",
    "    d_oscillating_species = np.zeros(num_oscillating_species)\n",
    "    d_doped_species = np.zeros(num_doped_species)\n",
    "\n",
    "    # defining the derivatives \n",
    "\n",
    "    # for the oscillating species\n",
    "    d_oscillating_species[0] = -oscillating_species[0]*oscillating_species[1] + oscillating_species[num_oscillating_species-1]*oscillating_species[0] + doped_species[0]*oscillating_species[num_oscillating_species-1] - doped_species[1]*oscillating_species[0]\n",
    "\n",
    "    for idx in range(1,num_oscillating_species-1):\n",
    "        d_oscillating_species[idx] = oscillating_species[idx-1]*oscillating_species[idx] - oscillating_species[idx+1]*oscillating_species[idx] + doped_species[idx]*oscillating_species[idx-1] - doped_species[idx+1]*oscillating_species[idx]\n",
    "    \n",
    "    d_oscillating_species[num_oscillating_species-1] = oscillating_species[num_oscillating_species-2]*oscillating_species[num_oscillating_species-1] - oscillating_species[0]*oscillating_species[num_oscillating_species-1] + doped_species[num_doped_species-1]*oscillating_species[num_oscillating_species-2] - doped_species[0]*oscillating_species[num_oscillating_species-1]\n",
    "\n",
    "    # for the doped species\n",
    "    d_doped_species[0] = -doped_species[0]*oscillating_species[num_doped_species-1]\n",
    "\n",
    "    for idx in range(1,num_doped_species):\n",
    "        d_doped_species[idx] = -doped_species[idx]*oscillating_species[idx-1]\n",
    "    \n",
    "    dydt = []\n",
    "    dydt.extend(d_oscillating_species)\n",
    "    dydt.extend(d_doped_species)\n",
    "    \n",
    "    return dydt\n",
    "\n",
    "def oscillator_wrapper(oscillating_species, doped_species, current_timestep, species_concentrations, species_concentrations_current_timestep):\n",
    "    \n",
    "    # making an array of the species concentrations at timestep: current_timestep - 1\n",
    "    oscillating_species_concentrations = np.array([species_concentrations[species][current_timestep - 1] for species in oscillating_species])\n",
    "    doped_species_concentrations = np.array([species_concentrations[species][current_timestep - 1] for species in doped_species])\n",
    "\n",
    "    # number of oscillating species \n",
    "    num_oscillating_species = len(oscillating_species_concentrations)\n",
    "\n",
    "    # making the input array for the oscillator function\n",
    "    y_0 = []\n",
    "    y_0.extend(oscillating_species_concentrations)\n",
    "    y_0.extend(doped_species_concentrations)\n",
    "\n",
    "    # calculating the time range\n",
    "    t = np.linspace(current_timestep - 1, current_timestep, 2) # 2 steps\n",
    "\n",
    "    # solving the ODE\n",
    "    sol = odeint(oscillator_function, y_0, t, args=(num_oscillating_species,))\n",
    "\n",
    "    # updating the species concentrations in current timestep\n",
    "    for idx, species in enumerate(oscillating_species):\n",
    "        species_concentrations_current_timestep[species] = sol[1][idx]\n",
    "\n",
    "    for idx, species in enumerate(doped_species):\n",
    "        species_concentrations_current_timestep[species] = sol[1][num_oscillating_species + idx]\n",
    "\n",
    "    return species_concentrations_current_timestep\n",
    "\n",
    "\n",
    "\n"
   ]
  },
  {
   "cell_type": "code",
   "execution_count": 23,
   "metadata": {
    "metadata": {}
   },
   "outputs": [],
   "source": [
    "threshold = 0.0001"
   ]
  },
  {
   "cell_type": "code",
   "execution_count": 24,
   "metadata": {
    "metadata": {}
   },
   "outputs": [],
   "source": [
    "# laoding function\n",
    "def load_function(y,t,a, o):\n",
    "    c = y[0]\n",
    "    dc_dt = -c*o + a*o\n",
    "    return [ dc_dt]\n",
    "\n",
    "def load_wrapper(from_species, to_species, regulating_species, current_timestep, species_concentrations, species_concentrations_current_timestep):\n",
    "\n",
    "    # getting the species concentrations at current timestep - 1\n",
    "    from_species_concentration = species_concentrations[from_species][current_timestep - 1]\n",
    "    to_species_concentration = species_concentrations[to_species][current_timestep - 1]\n",
    "    regulating_species_concentration = species_concentrations[regulating_species][current_timestep - 1]\n",
    "\n",
    "    y0 = [to_species_concentration]\n",
    "    t = np.linspace(current_timestep - 1, current_timestep, 2) # 2 steps\n",
    "    \n",
    "    sol = odeint(load_function, y0, t, args=(from_species_concentration, regulating_species_concentration))\n",
    "\n",
    "    if np.abs(sol[1][0] - to_species_concentration) > threshold: # to ensure update only happens when substantial #review\n",
    "        species_concentrations_current_timestep[to_species] = sol[1][0] # only value of to_species is updated\n",
    "\n",
    "    return species_concentrations_current_timestep\n",
    "\n"
   ]
  },
  {
   "cell_type": "code",
   "execution_count": 25,
   "metadata": {
    "metadata": {}
   },
   "outputs": [],
   "source": [
    "# multiplication function\n",
    "def product_f(y,t,multiplicand_species_concentrations,o):\n",
    "    c = y[0]\n",
    "\n",
    "    dc_dt = 0\n",
    "\n",
    "    temp = 1\n",
    "    for idx, multiplicand in enumerate(multiplicand_species_concentrations):\n",
    "        temp  = temp * multiplicand\n",
    "    \n",
    "    dc_dt = -c*o + temp*o\n",
    "    return [ dc_dt]\n",
    "\n",
    "def product_wrapper(multiplicand_species, product,regulating_species, current_timestep, species_concentrations, species_concentrations_current_timestep):\n",
    "\n",
    "    multiplicand_species_concentrations = np.array([species_concentrations[species][current_timestep - 1] for species in multiplicand_species])\n",
    "\n",
    "    c = species_concentrations[product][current_timestep - 1]\n",
    "    o = species_concentrations[regulating_species][current_timestep - 1]\n",
    "\n",
    "    y0 = [c]\n",
    "    t = np.linspace(current_timestep-1, current_timestep,2)\n",
    "    \n",
    "    sol = odeint(product_f, y0, t, args=(multiplicand_species_concentrations, o))\n",
    "\n",
    "    if np.abs(c-sol[1][0])> threshold:\n",
    "        species_concentrations_current_timestep[product] = sol[1][0]\n",
    "\n",
    "    return species_concentrations_current_timestep"
   ]
  },
  {
   "cell_type": "code",
   "execution_count": 26,
   "metadata": {
    "metadata": {}
   },
   "outputs": [],
   "source": [
    "# sum function\n",
    "def sum_f(y,t,additive_species_concentrations,o):\n",
    "    c = y[0]\n",
    "    temp =0\n",
    "    for idx, additive in enumerate(additive_species_concentrations):\n",
    "        temp = temp + additive\n",
    "    dc_dt = -c*o + temp*o\n",
    "    return [ dc_dt]\n",
    "\n",
    "def sum_wrapper(additive_species, sum, regulating_species, current_timestep, species_concentrations, species_concentrations_current_timestep):\n",
    "\n",
    "    # getting the species concentrations at current timestep -1\n",
    "    additive_species_concentrations =  np.array([species_concentrations[species][current_timestep - 1] for species in additive_species])\n",
    "\n",
    "    c = species_concentrations[sum][current_timestep-1]\n",
    "    o = species_concentrations[regulating_species][current_timestep-1]\n",
    "\n",
    "    y0 = [c]\n",
    "    t = np.linspace(current_timestep-1, current_timestep,2)\n",
    "    \n",
    "    sol = odeint(sum_f, y0, t, args=(additive_species_concentrations,o))\n",
    "\n",
    "    if np.abs(c-sol[1][0]) > threshold:\n",
    "        species_concentrations_current_timestep[sum] = sol[1][0]\n",
    "\n",
    "    return species_concentrations_current_timestep"
   ]
  },
  {
   "cell_type": "code",
   "execution_count": 27,
   "metadata": {
    "metadata": {}
   },
   "outputs": [],
   "source": [
    "# mapping function for comparison\n",
    "def comparison_f(y, t, a, b, o):\n",
    "    dydt = []\n",
    "    bgta = y[0]\n",
    "    blta = y[1]\n",
    "\n",
    "    temp = b*blta*o - bgta*a*o\n",
    "    dydt.append(temp)\n",
    "\n",
    "    temp = bgta*a*o - b*blta*o\n",
    "    dydt.append(temp)\n",
    "\n",
    "    return dydt\n",
    "\n",
    "def comparison_wrapper(species_a,species_b, b_gt_a, b_lt_a, regulating_species , current_timestep, species_concentrations, species_concentrations_current_timestep):\n",
    "\n",
    "    a = species_concentrations[species_a][current_timestep-1]\n",
    "    b = species_concentrations[species_b][current_timestep-1]\n",
    "    bgta = species_concentrations[b_gt_a][current_timestep-1]\n",
    "    blta = species_concentrations[b_lt_a][current_timestep-1]\n",
    "    o = species_concentrations[regulating_species][current_timestep-1]\n",
    "\n",
    "    y0 = [bgta, blta]\n",
    "    t = np.linspace(current_timestep -1, current_timestep, 2)\n",
    "    \n",
    "    sol = odeint(comparison_f, y0, t, args=(a,b, o))\n",
    "\n",
    "    if np.abs(bgta-sol[:,0][-1]) > threshold:\n",
    "        species_concentrations_current_timestep[b_gt_a] = sol[:, 0][-1]\n",
    "    if np.abs(blta-sol[:,1][-1]) > threshold:\n",
    "        species_concentrations_current_timestep[b_lt_a] = sol[:, 1][-1]\n",
    "\n",
    "    return species_concentrations_current_timestep\n"
   ]
  },
  {
   "cell_type": "code",
   "execution_count": 28,
   "metadata": {
    "metadata": {}
   },
   "outputs": [],
   "source": [
    "# approximate majority for comparison\n",
    "def approx_majority_f(y, t, o):\n",
    "    kgtq = y[0]\n",
    "    kltq = y[1]\n",
    "    b_help = y[2]\n",
    "\n",
    "    dydt = []\n",
    "    \n",
    "    temp =  - kgtq*kltq*o + kgtq *b_help*o\n",
    "    dydt.append(temp)\n",
    "\n",
    "    temp = kltq*b_help*o - kgtq*kltq*o\n",
    "    dydt.append(temp)\n",
    "\n",
    "    temp = 2* kgtq*kltq*o - kgtq*b_help*o - kltq*b_help*o\n",
    "    dydt.append(temp)\n",
    "\n",
    "    return dydt\n",
    "\n",
    "def approx_majority_wrapper(b_gt_a, b_lt_a, helper_species, regulating_species, current_timestep, species_concentrations, species_concentrations_current_timestep):\n",
    "\n",
    "    bgta = species_concentrations[b_gt_a][current_timestep-1]\n",
    "    blta = species_concentrations[b_lt_a][current_timestep-1]\n",
    "    helper_s = species_concentrations[helper_species][current_timestep-1]\n",
    "    o = species_concentrations[regulating_species][current_timestep-1]\n",
    "\n",
    "    y_0 = [bgta, blta, helper_s]\n",
    "\n",
    "    t = np.linspace(current_timestep, current_timestep+1, 2)\n",
    "\n",
    "    sol = odeint(approx_majority_f, y_0, t, args=(o,))\n",
    "\n",
    "    if np.abs(bgta-sol[:,0][-1]) > threshold:\n",
    "        species_concentrations_current_timestep[b_gt_a] = sol[:, 0][-1]\n",
    "    if np.abs(blta-sol[:,1][-1]) > threshold:\n",
    "        species_concentrations_current_timestep[b_lt_a] = sol[:, 1][-1]\n",
    "    if np.abs(helper_s - sol[:,2][-1]) > threshold:\n",
    "        species_concentrations_current_timestep[helper_species] = sol[:,2][-1]\n",
    "\n",
    "    return species_concentrations_current_timestep\n"
   ]
  },
  {
   "cell_type": "code",
   "execution_count": 29,
   "metadata": {},
   "outputs": [],
   "source": [
    "# making the dataset for train ( same as above )\n",
    "X = np.array([[1, 7], [2, 8], [3, 8], [5, 1], [6, -1], [7, 3]])\n",
    "y = np.array([1, 1, 1, -1, -1, -1])"
   ]
  },
  {
   "cell_type": "code",
   "execution_count": 30,
   "metadata": {},
   "outputs": [],
   "source": [
    "# function for dual_rail encoding\n",
    "def dual_rail_encoding(X):\n",
    "    X_p = []\n",
    "    X_n = []\n",
    "\n",
    "    for x in X:\n",
    "        # if x is an array of elements\n",
    "        if isinstance(x, np.ndarray):\n",
    "            x_p = []\n",
    "            x_n = []\n",
    "            for ele in x:\n",
    "                if ele >0 :\n",
    "                    x_p.append(ele)\n",
    "                    x_n.append(0)\n",
    "                else:\n",
    "                    x_p.append(0)\n",
    "                    x_n.append(-1*ele)\n",
    "            X_p.append(x_p)\n",
    "            X_n.append(x_n)\n",
    "\n",
    "        else:\n",
    "            if x >0:\n",
    "                X_p.append(x)\n",
    "                X_n.append(0)\n",
    "            else:\n",
    "                X_p.append(0)\n",
    "                X_n.append(-1*x)\n",
    "\n",
    "    return X_p, X_n\n"
   ]
  },
  {
   "cell_type": "code",
   "execution_count": 31,
   "metadata": {},
   "outputs": [],
   "source": [
    "X_p, X_n = dual_rail_encoding(X)    \n",
    "Y_p, Y_n = dual_rail_encoding(y)"
   ]
  },
  {
   "cell_type": "code",
   "execution_count": 32,
   "metadata": {},
   "outputs": [],
   "source": [
    "# training :\n",
    "# input loading\n",
    "# W_X = W * X\n",
    "# P = summation of W_X + B\n",
    "# Q = YP\n",
    "# Comparison of Q with 1 \n",
    "# Update steps\n"
   ]
  },
  {
   "cell_type": "code",
   "execution_count": null,
   "metadata": {},
   "outputs": [],
   "source": []
  },
  {
   "cell_type": "code",
   "execution_count": 33,
   "metadata": {},
   "outputs": [],
   "source": [
    "# time_limit = 10000\n",
    "\n",
    "\n",
    "# for t in range(time_limit):\n",
    "#     # module for loading input\n",
    "\n",
    "#     # "
   ]
  },
  {
   "cell_type": "code",
   "execution_count": 37,
   "metadata": {
    "metadata": {}
   },
   "outputs": [
    {
     "data": {
      "image/png": "[encoded data removed]",
      "text/plain": [
       "<Figure size 640x480 with 1 Axes>"
      ]
     },
     "metadata": {},
     "output_type": "display_data"
    },
    {
     "name": "stdout",
     "output_type": "stream",
     "text": [
      "1\n"
     ]
    }
   ],
   "source": [
    "# initialisation\n",
    "d = 10 **(-10)\n",
    "species_concentrations = {\n",
    "    'o1': [1],\n",
    "    'o2': [0],\n",
    "    'o3': [0],\n",
    "    'o4': [0],\n",
    "    'o5': [0],\n",
    "    'o6': [0],\n",
    "    'dope1': [d],\n",
    "    'dope2': [d],\n",
    "    'dope3': [d],\n",
    "    'dope4': [d],\n",
    "    'dope5': [d],\n",
    "    'dope6': [d],\n",
    "    'a' : [2],\n",
    "    'b' : [3],\n",
    "    'c' : [4],\n",
    "    'd' : [6],\n",
    "    'e' : [7],\n",
    "    's' :[0],\n",
    "    'bgta': [1],\n",
    "    'blta': [ 0],\n",
    "    'helper_s': [0]\n",
    "}\n",
    "ti=1\n",
    "# osc = ['o1', 'o2','o3', 'o4']\n",
    "# dop = ['dope1', 'dope2', 'dope3', 'dope4']\n",
    "osc = ['o1', 'o2','o3', 'o4','o5', 'o6']\n",
    "dop = ['dope1', 'dope2', 'dope3', 'dope4', 'dope5', 'dope6']\n",
    "\n",
    "for t in range(1, 10):\n",
    "    # Get updated concentrations for the current timestep\n",
    "    updated_concentrations_current_t = oscillator_wrapper(osc, dop, t, species_concentrations, {})\n",
    "    # updated_concentrations_current_t = product_wrapper('a','c','b' ,'o3', t, species_concentrations,updated_concentrations_current_t )\n",
    "    # updated_concentrations_current_t = load_wrapper('a', 'c', 'o1', t, species_concentrations,updated_concentrations_current_t )\n",
    "    updated_concentrations_current_t = sum_wrapper(['a','b', 'c', 'd'],'s', 'o1', t,species_concentrations, updated_concentrations_current_t )\n",
    "    # updated_concentrations_current_t = sum_wrapper('d','c','s', 'o1', t,species_concentrations, updated_concentrations_current_t )\n",
    "    # updated_concentrations_current_t = sum_wrapper('a','d','s', 'o1', t,species_concentrations, updated_concentrations_current_t )\n",
    "    # updated_concentrations_current_t = sum_wrapper('a','e','s', 'o1', t,species_concentrations, updated_concentrations_current_t )\n",
    "    # updated_concentrations_current_t = product_wrapper('a','c', 'b', 'o1', t, species_concentrations, updated_concentrations_current_t)\n",
    "\n",
    "    # updated_concentrations_current_t = approx_majority_wrapper('bgta', 'blta', 'helper_s', 'o3', t, species_concentrations, updated_concentrations_current_t)\n",
    "    # updated_concentrations_current_t = comparison_wrapper('a','b', 'bgta','blta', 'o1', t, species_concentrations, updated_concentrations_current_t)\n",
    "    \n",
    "    # Update the species_concentrations dictionary with the new concentrations\n",
    "    for species in species_concentrations:\n",
    "        if species in updated_concentrations_current_t:\n",
    "            species_concentrations[species].append(updated_concentrations_current_t[species])\n",
    "        else:\n",
    "            species_concentrations[species].append(species_concentrations[species][t-1])\n",
    "     \n",
    "# plotting the  species in the species_concentrations dictionary\n",
    "for species in species_concentrations:\n",
    "    # if species == 'a'or species == 'b' or species == 'c':\n",
    "     plt.plot(species_concentrations[species], label=species)\n",
    "plt.legend()\n",
    "plt.show()\n",
    "\n",
    "print(species_concentrations['bgta'][-1] + species_concentrations['blta'][-1])\n"
   ]
  },
  {
   "cell_type": "code",
   "execution_count": null,
   "metadata": {
    "metadata": {}
   },
   "outputs": [],
   "source": [
    "# # trying out this function\n",
    "# osc = ['o1', 'o2','o3']\n",
    "# dop = ['dope1', 'dope2', 'dope3']\n",
    "\n",
    "# d = 10 **(-15)\n",
    "# species_concentrations = {\n",
    "#     'o1': [1],\n",
    "#     'o2': [0],\n",
    "#     'o3': [0],\n",
    "#     'dope1': [d],\n",
    "#     'dope2': [d],\n",
    "#     'dope3': [d]\n",
    "# }\n",
    "\n",
    "\n",
    "# for t in range(1, 100):\n",
    "#     # Get updated concentrations for the current timestep\n",
    "#     updated_concentrations = oscillator_wrapper(osc, dop, t, species_concentrations, {})\n",
    "    \n",
    "#     # Update the species_concentrations dictionary with the new concentrations\n",
    "#     for species in updated_concentrations:\n",
    "#         species_concentrations[species].append(updated_concentrations[species])\n",
    "\n",
    "# # print(species_concentrations)\n",
    "\n",
    "# # plotting the  species in the species_concentrations dictionary\n",
    "# for species in species_concentrations:\n",
    "#     plt.plot(species_concentrations[species], label=species)\n",
    "\n",
    "# plt.legend()\n",
    "# plt.show()\n",
    "\n",
    "\n",
    "# d = 10 **(-10)\n",
    "# species_concentrations = {\n",
    "#     'o1': [1],\n",
    "#     'o2': [0],\n",
    "#     'o3': [0],\n",
    "#     'o4': [0],\n",
    "#     'dope1': [d],\n",
    "#     'dope2': [d],\n",
    "#     'dope3': [d],\n",
    "#     'dope4': [d],\n",
    "#     'a' : [2],\n",
    "#     'b' : [3],\n",
    "#     'c' : [4]\n",
    "# }\n",
    "\n",
    "# osc = ['o1', 'o2','o3', 'o4']\n",
    "# dop = ['dope1', 'dope2', 'dope3', 'dope4']\n",
    "\n",
    "# for t in range(1, 1000):\n",
    "#     # Get updated concentrations for the current timestep\n",
    "#     updated_concentrations_osc = oscillator_wrapper(osc, dop, t, species_concentrations, {})\n",
    "#     updated_concentrations_load = load_wrapper('a', 'c', 'o1', t, species_concentrations,updated_concentrations_osc )\n",
    "#     updated_concentrations_load = load_wrapper('b', 'a', 'o4', t, species_concentrations,updated_concentrations_load )\n",
    "    \n",
    "#     # Update the species_concentrations dictionary with the new concentrations\n",
    "#     for species in updated_concentrations_load:\n",
    "#         species_concentrations[species].append(updated_concentrations_load[species])\n",
    "\n",
    "# # plotting the  species in the species_concentrations dictionary\n",
    "# for species in species_concentrations:\n",
    "#     plt.plot(species_concentrations[species], label=species)\n",
    "# plt.legend()\n",
    "# plt.show()\n"
   ]
  },
  {
   "cell_type": "code",
   "execution_count": null,
   "metadata": {
    "metadata": {}
   },
   "outputs": [],
   "source": [
    "# Questions to ask:\n",
    "# 1. We need to ensure that every module finishes in its first oscillation (i think), so make a new network with not all oscillating\n",
    "# 2. as doing odeint for basically 1 step, do  i really need to do it? can simply do x_t = x_t-1 + dxdt?\n",
    "# 3. between oscillations, the transition causes change in concentration of other species Answer: space by 2 oscillations , o1 ,o2, then o3 and also introduce o4\n",
    "# 4. Different species for read and write (not LHS and RHS in species)\n",
    "# 5. jumled order of instructions forces us to include change threshold update. do u want that?\n",
    "\n",
    "\n",
    "# Things to do:\n",
    "# 1. formalise the notebook, by adding markdowns\n",
    "# 2. check reviews once\n"
   ]
  }
 ],
 "metadata": {
  "kernelspec": {
   "display_name": "Python 3",
   "language": "python",
   "name": "python3"
  },
  "language_info": {
   "codemirror_mode": {
    "name": "ipython",
    "version": 3
   },
   "file_extension": ".py",
   "mimetype": "text/x-python",
   "name": "python",
   "nbconvert_exporter": "python",
   "pygments_lexer": "ipython3",
   "version": "3.10.12"
  }
 },
 "nbformat": 4,
 "nbformat_minor": 2
}
